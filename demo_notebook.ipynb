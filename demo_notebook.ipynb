{
 "cells": [
  {
   "cell_type": "code",
   "execution_count": 1,
   "id": "57b251e1-d5c5-493a-ace9-5d0689e33ed0",
   "metadata": {},
   "outputs": [],
   "source": [
    "import os\n",
    "os.environ[\"CUDA_DEVICE_ORDER\"]=\"PCI_BUS_ID\"  # Arrange GPU devices starting from 0\n",
    "os.environ[\"CUDA_VISIBLE_DEVICES\"]= \"1\"  # Set the GPU 2 to use\n",
    "import threestudio\n",
    "\n",
    "import math\n",
    "from tqdm import tqdm\n",
    "import numpy as np\n",
    "import random\n",
    "import torch\n",
    "import torch.nn as nn\n",
    "import torch.nn.functional as F\n",
    "\n",
    "import kiui\n",
    "\n",
    "from threestudio.models.materials.pbr_material import PBRMaterial\n",
    "from threestudio.models.geometry.custom_mesh import CustomMesh"
   ]
  },
  {
   "cell_type": "code",
   "execution_count": 2,
   "id": "84299cde-5872-4301-93b4-e6a1af914043",
   "metadata": {},
   "outputs": [],
   "source": [
    "# prompt = \"A sleek, 3D-rendered teddy bear characterized by smooth, rounded features, a large spherical head, small round ears, short limbs with cylindrical legs and arms, and a stout, rotund body. The bear exhibits a simplistic and minimalist design with subtle details on its face and limbs\"\n",
    "# prompt = \"an albedo map of a high quality 3D model of a helmet\"\n",
    "prompt = \"an albedo map of high quality 3D model of a helmet. colormap, muted realistic colors\"\n",
    "negative_prompt = \"oversaturated color, ugly, tiling, poorly drawn hands, poorly drawn feet, poorly drawn face, poorly drawn eyes, low contrast, underexposed, overexposed, bright blue spots, glowing blue patches, intense blue highlights, Unrealistic highlights, Artificial shininess, Exaggerated light reflections, Unnatural facial expression, Inauthentic eye contact, low resolution\"\n",
    "# prompt = \"a photo of a backpack\"\n",
    "# negative_prompt = \"text, watermark, lowres, low quality, worst quality, deformed, glitch, low contrast, noisy, saturation, blurry\"\n",
    "# negative_prompt = \"oversaturated color, ugly, tiling, poorly drawn hands, poorly drawn feet, poorly drawn face, poorly drawn eyes, low contrast, underexposed, overexposed, bright blue spots, glowing blue patches, intense blue highlights, Unrealistic highlights, Artificial shininess, Exaggerated light reflections, Unnatural facial expression, Inauthentic eye contact, low resolution\"\n",
    "# negative_prompt = \"flat texture, unrealistic fur patterns, unnatural shading, disjointed symmetry, artificial depth\"\n",
    "# negative_prompt = \"The areas around the eyes, nose, and mouth lack consistent alignment and proportionality, creating an irregular appearance from different angles.\"\n",
    "# negative_prompt = \"A uniquely colorful teapot adorned with vibrant fruit illustrations, sitting on a cozy living room table.\"\n",
    "# prompt = \"The 3D object is a stylized, armored creature or character with a bulky, segmented structure. It features prominent, curved, horn-like appendages on its head, round protrusions resembling rivets or spikes on its armor, and a robust, muscular design with articulated limbs.\"\n",
    "# prompt = \"A pumpkin-like object with a short, curved stem. The surface appears smooth but includes subtle vertical grooves, and one side features exaggerated, hollow eye sockets, giving it a menacing appearance\"\n",
    "# negative_prompt = \"\"\n",
    "# tgt_prompt = \"The image shows a teddy bear dressed in a formal white shirt, black tie, and black shorts.\"\n",
    "tgt_prompt = \"\""
   ]
  },
  {
   "cell_type": "code",
   "execution_count": 3,
   "id": "0c550066-72a4-419a-806b-21dc7610814f",
   "metadata": {},
   "outputs": [],
   "source": [
    "config = {\n",
    "    'material_activation': 'sigmoid',\n",
    "    'environment_texture': \"load/lights/mud_road_puresky_1k.hdr\",\n",
    "    'environment_scale': 2.0,\n",
    "    'min_metallic': 0.0,\n",
    "    'max_metallic': 0.9,\n",
    "    'min_roughness': 0.08,\n",
    "    'max_roughness': 0.9,\n",
    "    'use_bump': False\n",
    "}"
   ]
  },
  {
   "cell_type": "code",
   "execution_count": 4,
   "id": "2eca763c-b675-4339-8b36-4597eed90964",
   "metadata": {},
   "outputs": [
    {
     "name": "stderr",
     "output_type": "stream",
     "text": [
      "/home/user/anaconda3/envs/threestudio/lib/python3.10/site-packages/torch/functional.py:504: UserWarning: torch.meshgrid: in an upcoming release, it will be required to pass the indexing argument. (Triggered internally at ../aten/src/ATen/native/TensorShape.cpp:3483.)\n",
      "  return _VF.meshgrid(tensors, **kwargs)  # type: ignore[attr-defined]\n",
      "Using /home/user/.cache/torch_extensions/py310_cu118 as PyTorch extensions root...\n",
      "Detected CUDA files, patching ldflags\n",
      "Emitting ninja build file /home/user/.cache/torch_extensions/py310_cu118/renderutils_plugin/build.ninja...\n",
      "Building extension module renderutils_plugin...\n",
      "Allowing ninja to set a default number of workers... (overridable by setting the environment variable MAX_JOBS=N)\n",
      "Loading extension module renderutils_plugin...\n"
     ]
    },
    {
     "name": "stdout",
     "output_type": "stream",
     "text": [
      "ninja: no work to do.\n"
     ]
    }
   ],
   "source": [
    "material = PBRMaterial(config)"
   ]
  },
  {
   "cell_type": "code",
   "execution_count": 5,
   "id": "5b526d46-a230-4530-8bb5-ee21f30a30d0",
   "metadata": {},
   "outputs": [],
   "source": [
    "config_mesh = {\n",
    "    'shape_init': \"mesh:./load/shapes/helmet/helmet.obj\",\n",
    "    'shape_init_params': 1.0,\n",
    "    'radius': 1.0, # consistent with coarse\n",
    "    'pos_encoding_config': {\n",
    "        'otype': 'HashGrid',\n",
    "        'n_levels': 16,\n",
    "        'n_features_per_level': 2,\n",
    "        'log2_hashmap_size': 19,\n",
    "        'base_resolution': 16,\n",
    "        'per_level_scale': 1.4472692374403782 # max resolution 4096\n",
    "    },\n",
    "    'shape_init_mesh_up': '+y',\n",
    "    'shape_init_mesh_front': '+z',\n",
    "    'n_feature_dims': 8 # albedo3 + roughness1 + metallic1 + bump3\n",
    "}"
   ]
  },
  {
   "cell_type": "code",
   "execution_count": 6,
   "id": "0a3f1392-e675-4f0c-af4b-8719f26be927",
   "metadata": {},
   "outputs": [
    {
     "name": "stdout",
     "output_type": "stream",
     "text": [
      "cuda:0\n"
     ]
    },
    {
     "data": {
      "text/plain": [
       "CustomMesh(\n",
       "  (encoding): CompositeEncoding(\n",
       "    (encoding): TCNNEncoding(\n",
       "      (encoding): Encoding(n_input_dims=3, n_output_dims=32, seed=1337, dtype=torch.float32, hyperparams={'base_resolution': 16, 'hash': 'CoherentPrime', 'interpolation': 'Linear', 'log2_hashmap_size': 19, 'n_features_per_level': 2, 'n_levels': 16, 'otype': 'Grid', 'per_level_scale': 1.4472692012786865, 'type': 'Hash'})\n",
       "    )\n",
       "  )\n",
       "  (feature_network): VanillaMLP(\n",
       "    (layers): Sequential(\n",
       "      (0): Linear(in_features=32, out_features=64, bias=False)\n",
       "      (1): ReLU(inplace=True)\n",
       "      (2): Linear(in_features=64, out_features=8, bias=False)\n",
       "    )\n",
       "  )\n",
       ")"
      ]
     },
     "execution_count": 6,
     "metadata": {},
     "output_type": "execute_result"
    }
   ],
   "source": [
    "mesh = CustomMesh(config_mesh)\n",
    "mesh"
   ]
  },
  {
   "cell_type": "code",
   "execution_count": 7,
   "id": "a61d3f66-6b4a-4bad-8999-f57fd0237f66",
   "metadata": {},
   "outputs": [],
   "source": [
    "from threestudio.utils.rasterize import NVDiffRasterizerContext"
   ]
  },
  {
   "cell_type": "code",
   "execution_count": 8,
   "id": "df0cb9eb-36fa-4f1c-846a-bf4afdf99340",
   "metadata": {},
   "outputs": [],
   "source": [
    "rasterizer = NVDiffRasterizerContext(\"cuda\", \"cuda\")"
   ]
  },
  {
   "cell_type": "code",
   "execution_count": 9,
   "id": "cc170757-fe95-42e7-bf67-31ccecf90be4",
   "metadata": {},
   "outputs": [],
   "source": [
    "from threestudio.data.uncond import RandomCameraDataModuleConfig, RandomCameraDataset, RandomCameraIterableDataset, RandomCameraDataModule"
   ]
  },
  {
   "cell_type": "code",
   "execution_count": 10,
   "id": "96349e27-fea2-4217-af16-3afa65223e49",
   "metadata": {},
   "outputs": [],
   "source": [
    "camera_config = {\n",
    "  'height': 512,\n",
    "  'batch_size': 1,\n",
    "  'width': 512,\n",
    "  'camera_distance_range': [4, 4],\n",
    "  'fovy_range': [25, 45],\n",
    "  'camera_perturb': 0.,\n",
    "  'center_perturb': 0.,\n",
    "  'up_perturb': 0.,\n",
    "  'elevation_range': [-20, 45],\n",
    "  'azimuth_range': [-180, 180],\n",
    "  'batch_uniform_azimuth': True,\n",
    "  'eval_camera_distance': 4.,\n",
    "  'eval_fovy_deg': 45.,\n",
    "}"
   ]
  },
  {
   "cell_type": "code",
   "execution_count": 11,
   "id": "067e088a-80b2-47de-a23d-a84a2ced8449",
   "metadata": {
    "scrolled": true
   },
   "outputs": [],
   "source": [
    "camera_module_config = RandomCameraDataModuleConfig(**camera_config)\n",
    "dataset = RandomCameraIterableDataset(camera_module_config)"
   ]
  },
  {
   "cell_type": "code",
   "execution_count": 12,
   "id": "8042f43b-7af5-4f12-ac27-9a908bdc71b3",
   "metadata": {},
   "outputs": [],
   "source": [
    "sample_data = dataset.collate(1)"
   ]
  },
  {
   "cell_type": "code",
   "execution_count": 13,
   "id": "1bc6762b-2bd4-429b-ba4f-8b666fb1d288",
   "metadata": {},
   "outputs": [
    {
     "data": {
      "text/plain": [
       "dict_keys(['rays_o', 'rays_d', 'mvp_mtx', 'camera_positions', 'c2w', 'light_positions', 'elevation', 'azimuth', 'camera_distances', 'height', 'width', 'fovy', 'proj_mtx'])"
      ]
     },
     "execution_count": 13,
     "metadata": {},
     "output_type": "execute_result"
    }
   ],
   "source": [
    "sample_data.keys()"
   ]
  },
  {
   "cell_type": "code",
   "execution_count": 14,
   "id": "b7cf7acd-d305-49a6-8944-74474ac19c65",
   "metadata": {},
   "outputs": [],
   "source": [
    "from threestudio.models.background.solid_color_background import SolidColorBackground"
   ]
  },
  {
   "cell_type": "code",
   "execution_count": 15,
   "id": "754a3ed9-d26b-42e0-a9c8-ff28bfafa2de",
   "metadata": {},
   "outputs": [],
   "source": [
    "background_config = {\n",
    "}"
   ]
  },
  {
   "cell_type": "code",
   "execution_count": 16,
   "id": "c475815e-606d-4b7f-99f7-a8fe5a853658",
   "metadata": {},
   "outputs": [],
   "source": [
    "background = SolidColorBackground(background_config)"
   ]
  },
  {
   "cell_type": "code",
   "execution_count": 17,
   "id": "88eff179-0b8b-464b-813d-3ade0ceebe81",
   "metadata": {},
   "outputs": [],
   "source": [
    "from threestudio.models.renderers.nvdiff_rasterizer import NVDiffRasterizer"
   ]
  },
  {
   "cell_type": "code",
   "execution_count": 18,
   "id": "bc077f51-54a1-43f3-a4d5-9aeb09265194",
   "metadata": {},
   "outputs": [],
   "source": [
    "rasterizer_config = {\n",
    "    'context_type': \"cuda\",\n",
    "}"
   ]
  },
  {
   "cell_type": "code",
   "execution_count": 19,
   "id": "43c7e7cb-4c43-435e-aa38-dcffea031a38",
   "metadata": {},
   "outputs": [],
   "source": [
    "mesh = mesh.to(\"cuda\")\n",
    "material = material.to(\"cuda\")\n",
    "background = background.to(\"cuda\")"
   ]
  },
  {
   "cell_type": "code",
   "execution_count": 20,
   "id": "ddda3c56-5944-42cf-bf7c-6367ad51925d",
   "metadata": {},
   "outputs": [
    {
     "data": {
      "text/plain": [
       "PBRMaterial(\n",
       "  (light): EnvLight()\n",
       ")"
      ]
     },
     "execution_count": 20,
     "metadata": {},
     "output_type": "execute_result"
    }
   ],
   "source": [
    "material"
   ]
  },
  {
   "cell_type": "code",
   "execution_count": 21,
   "id": "96a0b39f-6e17-4145-96a0-6c558d1c42a8",
   "metadata": {},
   "outputs": [],
   "source": [
    "rasterizer = NVDiffRasterizer(rasterizer_config, mesh, material, background)"
   ]
  },
  {
   "cell_type": "code",
   "execution_count": 22,
   "id": "e0cc94b5-42ff-4817-8436-6dfbf557c161",
   "metadata": {},
   "outputs": [
    {
     "data": {
      "text/plain": [
       "dict_keys(['rays_o', 'rays_d', 'mvp_mtx', 'camera_positions', 'c2w', 'light_positions', 'elevation', 'azimuth', 'camera_distances', 'height', 'width', 'fovy', 'proj_mtx'])"
      ]
     },
     "execution_count": 22,
     "metadata": {},
     "output_type": "execute_result"
    }
   ],
   "source": [
    "sample_data = dataset.collate(4)\n",
    "sample_data.keys()"
   ]
  },
  {
   "cell_type": "code",
   "execution_count": 23,
   "id": "66904b3a-3aa3-4db3-952a-3e9ae2989d65",
   "metadata": {},
   "outputs": [
    {
     "data": {
      "text/plain": [
       "tensor([-55.6467])"
      ]
     },
     "execution_count": 23,
     "metadata": {},
     "output_type": "execute_result"
    }
   ],
   "source": [
    "sample_data['azimuth']"
   ]
  },
  {
   "cell_type": "code",
   "execution_count": 24,
   "id": "adcca020-d02f-44e6-b837-eb7bcae1affb",
   "metadata": {},
   "outputs": [
    {
     "data": {
      "text/plain": [
       "tensor([ 2.2557, -3.3001, -0.1468])"
      ]
     },
     "execution_count": 24,
     "metadata": {},
     "output_type": "execute_result"
    }
   ],
   "source": [
    "sample_data['camera_positions'][0]"
   ]
  },
  {
   "cell_type": "code",
   "execution_count": 25,
   "id": "72062296-0473-44f9-9bb0-fbb14ce1333a",
   "metadata": {},
   "outputs": [
    {
     "name": "stdout",
     "output_type": "stream",
     "text": [
      "tensor([-45.4100])\n"
     ]
    },
    {
     "data": {
      "text/html": [
       "<pre style=\"white-space:pre;overflow-x:auto;line-height:normal;font-family:Menlo,'DejaVu Sans Mono',consolas,'Courier New',monospace\"><span style=\"color: #ffaf00; text-decoration-color: #ffaf00\">Tensor image</span> <span style=\"color: #800080; text-decoration-color: #800080; font-weight: bold\">torch.Size</span><span style=\"font-weight: bold\">([</span><span style=\"color: #008080; text-decoration-color: #008080; font-weight: bold\">1024</span>, <span style=\"color: #008080; text-decoration-color: #008080; font-weight: bold\">1024</span>, <span style=\"color: #008080; text-decoration-color: #008080; font-weight: bold\">3</span><span style=\"font-weight: bold\">])</span> torch.float32 cu<span style=\"color: #00ff00; text-decoration-color: #00ff00; font-weight: bold\">da:0</span> ∈ <span style=\"font-weight: bold\">[</span><span style=\"color: #008080; text-decoration-color: #008080; font-weight: bold\">0.21321293711662292</span>, <span style=\"color: #008080; text-decoration-color: #008080; font-weight: bold\">1.0</span><span style=\"font-weight: bold\">]</span>\n",
       "</pre>\n"
      ],
      "text/plain": [
       "\u001b[38;5;214mTensor image\u001b[0m \u001b[1;35mtorch.Size\u001b[0m\u001b[1m(\u001b[0m\u001b[1m[\u001b[0m\u001b[1;36m1024\u001b[0m, \u001b[1;36m1024\u001b[0m, \u001b[1;36m3\u001b[0m\u001b[1m]\u001b[0m\u001b[1m)\u001b[0m torch.float32 cu\u001b[1;92mda:0\u001b[0m ∈ \u001b[1m[\u001b[0m\u001b[1;36m0.21321293711662292\u001b[0m, \u001b[1;36m1.0\u001b[0m\u001b[1m]\u001b[0m\n"
      ]
     },
     "metadata": {},
     "output_type": "display_data"
    },
    {
     "data": {
      "image/png": "[encoded data removed]",
      "text/plain": [
       "<Figure size 640x480 with 1 Axes>"
      ]
     },
     "metadata": {},
     "output_type": "display_data"
    }
   ],
   "source": [
    "sample_data = dataset.collate(4)\n",
    "i = 0\n",
    "out = rasterizer(sample_data['mvp_mtx'][i:i+1].cuda(), sample_data['camera_positions'][i:i+1].cuda(), sample_data['light_positions'][i:i+1].cuda(), 1024, 1024, sample_data['c2w'][i:i+1].cuda())\n",
    "print(sample_data['azimuth'])\n",
    "kiui.vis.plot_image(out['comp_rgb'].reshape(1, 1024, 1024, 3))"
   ]
  },
  {
   "cell_type": "code",
   "execution_count": 40,
   "id": "fae4d4b2-f69e-45e2-b310-bb63899317ab",
   "metadata": {},
   "outputs": [],
   "source": [
    "diffusion_config = {\n",
    "    'max_iters': 3000,\n",
    "    'seed': 0,\n",
    "    'scheduler': 'cosine',\n",
    "    'mode': 'latent',\n",
    "    'prompt_processor_type': 'stable-diffusion-prompt-processor',\n",
    "    'prompt_processor': {\n",
    "        'pretrained_model_name_or_path': 'runwayml/stable-diffusion-v1-5',\n",
    "        'prompt': prompt,\n",
    "        'negative_prompt': negative_prompt,\n",
    "        'use_perp_neg': False\n",
    "    },\n",
    "    'guidance_type': 'stable-diffusion-ip-guidance',\n",
    "    'guidance': {\n",
    "        'half_precision_weights': True,\n",
    "        'pretrained_model_name_or_path': 'runwayml/stable-diffusion-v1-5',\n",
    "        'guidance_scale': 7.5,\n",
    "        'weighting_strategy': 'fantasia3d',\n",
    "        'min_step_percent': 0.02,\n",
    "        'max_step_percent': 0.98,\n",
    "        'grad_clip': None,\n",
    "        'view_dependent_prompting': True,\n",
    "        'use_plus': True,\n",
    "        # 'scale': 0.5,\n",
    "        # 'seed': 0,\n",
    "        'image_path': './images/teapot_rembg.png',\n",
    "        'xs_delta_t': 200,\n",
    "        'xs_inv_steps': 5,\n",
    "        'xs_eta': 0,\n",
    "        'delta_t': 50,\n",
    "        'delta_t_start': 100,\n",
    "        'annealing_intervals': True,\n",
    "        'use_img_loss': False,\n",
    "    },\n",
    "    'image': {\n",
    "        'width': 1024,\n",
    "        'height': 1024,\n",
    "    }\n",
    "}"
   ]
  },
  {
   "cell_type": "code",
   "execution_count": 41,
   "id": "3bd1158e-d3c9-4cf2-9482-8c71ebd52793",
   "metadata": {},
   "outputs": [
    {
     "name": "stderr",
     "output_type": "stream",
     "text": [
      "Loading Stable Diffusion ...\n"
     ]
    },
    {
     "data": {
      "application/vnd.jupyter.widget-view+json": {
       "model_id": "0e9a08ee1c5f4b9e937953f3d7121ce6",
       "version_major": 2,
       "version_minor": 0
      },
      "text/plain": [
       "Loading pipeline components...:   0%|          | 0/5 [00:00<?, ?it/s]"
      ]
     },
     "metadata": {},
     "output_type": "display_data"
    },
    {
     "name": "stderr",
     "output_type": "stream",
     "text": [
      "Loaded Stable Diffusion!\n",
      "Loaded Plus model!\n",
      "Loaded IP-Adapter!\n",
      "Using prompt [an albedo map of high quality 3D model of a helmet. colormap, muted realistic colors] and negative prompt [oversaturated color, ugly, tiling, poorly drawn hands, poorly drawn feet, poorly drawn face, poorly drawn eyes, low contrast, underexposed, overexposed, bright blue spots, glowing blue patches, intense blue highlights, Unrealistic highlights, Artificial shininess, Exaggerated light reflections, Unnatural facial expression, Inauthentic eye contact, low resolution]\n",
      "Using view-dependent prompts [side]:[an albedo map of high quality 3D model of a helmet. colormap, muted realistic colors, side view] [front]:[an albedo map of high quality 3D model of a helmet. colormap, muted realistic colors, front view] [back]:[an albedo map of high quality 3D model of a helmet. colormap, muted realistic colors, back view] [overhead]:[an albedo map of high quality 3D model of a helmet. colormap, muted realistic colors, overhead view]\n",
      "/home/user/anaconda3/envs/threestudio/lib/python3.10/site-packages/huggingface_hub/file_download.py:943: FutureWarning: `resume_download` is deprecated and will be removed in version 1.0.0. Downloads always resume when possible. If you want to force a new download, use `force_download=True`.\n",
      "  warnings.warn(\n"
     ]
    }
   ],
   "source": [
    "guidance = None\n",
    "prompt_processor = None\n",
    "\n",
    "with torch.no_grad():\n",
    "    torch.cuda.empty_cache()\n",
    "\n",
    "guidance = threestudio.find(diffusion_config['guidance_type'])(diffusion_config['guidance'])\n",
    "prompt_processor = threestudio.find(diffusion_config['prompt_processor_type'])(diffusion_config['prompt_processor'])\n",
    "prompt_processor.configure_text_encoder()"
   ]
  },
  {
   "cell_type": "code",
   "execution_count": 42,
   "id": "4f15c9d7-7a2e-4ea7-a10f-8c1abcdc96a3",
   "metadata": {},
   "outputs": [],
   "source": [
    "encoding_optimizer = torch.optim.AdamW(list(mesh.encoding.parameters()), lr=0.01, betas=(0.9, 0.99), eps=1e-15)\n",
    "optimizer = torch.optim.AdamW(list(mesh.feature_network.parameters()), lr=0.001, betas=(0.9, 0.99), eps=1e-15)"
   ]
  },
  {
   "cell_type": "code",
   "execution_count": 43,
   "id": "d19ac2f1-8299-4603-a7a2-8ced75170784",
   "metadata": {},
   "outputs": [],
   "source": [
    "# from adan_pytorch import Adan"
   ]
  },
  {
   "cell_type": "code",
   "execution_count": 44,
   "id": "83a6f339-e0d6-4912-9a25-f6861be12239",
   "metadata": {},
   "outputs": [],
   "source": [
    "# encoding_optimizer = Adan(list(mesh.encoding.parameters()), lr=0.005, eps=1.0e-8, weight_decay=2.0e-8)\n",
    "# optimizer = Adan(list(mesh.feature_network.parameters()), lr=0.001, eps=1.0e-8, weight_decay=2.0e-8)"
   ]
  },
  {
   "cell_type": "code",
   "execution_count": 45,
   "id": "95ae694e-3a1b-49a9-9ab0-1b3cccccc2e9",
   "metadata": {},
   "outputs": [],
   "source": [
    "# mesh.encoding.load_state_dict(torch.load(\"shiba_encoding.pth\"))\n",
    "# mesh.feature_network.load_state_dict(torch.load(\"shiba_mlp.pth\"))"
   ]
  },
  {
   "cell_type": "code",
   "execution_count": 46,
   "id": "4d207fb2-9626-46fb-95fb-ea9f43ae5b54",
   "metadata": {},
   "outputs": [],
   "source": [
    "num_steps = diffusion_config['max_iters']"
   ]
  },
  {
   "cell_type": "code",
   "execution_count": 47,
   "id": "d24e860f-065b-4b43-b20b-b5e0bc133f3d",
   "metadata": {},
   "outputs": [],
   "source": [
    "def get_cosine_schedule_with_warmup(optimizer, num_warmup_steps, num_training_steps, num_cycles: float = 0.5):\n",
    "    def lr_lambda(current_step):\n",
    "        if current_step < num_warmup_steps:\n",
    "            return float(current_step) / float(max(1, num_warmup_steps))\n",
    "        progress = float(current_step - num_warmup_steps) / float(max(1, num_training_steps - num_warmup_steps))\n",
    "        return max(0.0, 0.5 * (1.0 + math.cos(math.pi * float(num_cycles) * 2.0 * progress)))\n",
    "        \n",
    "scheduler = get_cosine_schedule_with_warmup(optimizer, 100, int(num_steps*1.5)) if diffusion_config['scheduler'] == 'cosine' else None"
   ]
  },
  {
   "cell_type": "code",
   "execution_count": 48,
   "id": "c8b65504-8a29-44a2-a1af-3e6cb34e319b",
   "metadata": {},
   "outputs": [],
   "source": [
    "from torch.cuda.amp import GradScaler, autocast\n",
    "scaler1 = GradScaler()\n",
    "scaler2 = GradScaler()"
   ]
  },
  {
   "cell_type": "code",
   "execution_count": 49,
   "id": "f63f5127-4cc9-470e-82b2-368a1e0ab115",
   "metadata": {},
   "outputs": [],
   "source": [
    "from controlnet_aux import CannyDetector\n",
    "detector = CannyDetector()"
   ]
  },
  {
   "cell_type": "code",
   "execution_count": 50,
   "id": "ada6921b-2030-4657-bfea-50f1c0dae5c7",
   "metadata": {},
   "outputs": [
    {
     "data": {
      "text/html": [
       "<pre style=\"white-space:pre;overflow-x:auto;line-height:normal;font-family:Menlo,'DejaVu Sans Mono',consolas,'Courier New',monospace\"><span style=\"color: #ffaf00; text-decoration-color: #ffaf00\">Tensor image</span> <span style=\"color: #800080; text-decoration-color: #800080; font-weight: bold\">torch.Size</span><span style=\"font-weight: bold\">([</span><span style=\"color: #008080; text-decoration-color: #008080; font-weight: bold\">512</span>, <span style=\"color: #008080; text-decoration-color: #008080; font-weight: bold\">512</span>, <span style=\"color: #008080; text-decoration-color: #008080; font-weight: bold\">3</span><span style=\"font-weight: bold\">])</span> torch.float16 cu<span style=\"color: #00ff00; text-decoration-color: #00ff00; font-weight: bold\">da:0</span> ∈ <span style=\"font-weight: bold\">[</span><span style=\"color: #008080; text-decoration-color: #008080; font-weight: bold\">0.0</span>, <span style=\"color: #008080; text-decoration-color: #008080; font-weight: bold\">1.0</span><span style=\"font-weight: bold\">]</span>\n",
       "</pre>\n"
      ],
      "text/plain": [
       "\u001b[38;5;214mTensor image\u001b[0m \u001b[1;35mtorch.Size\u001b[0m\u001b[1m(\u001b[0m\u001b[1m[\u001b[0m\u001b[1;36m512\u001b[0m, \u001b[1;36m512\u001b[0m, \u001b[1;36m3\u001b[0m\u001b[1m]\u001b[0m\u001b[1m)\u001b[0m torch.float16 cu\u001b[1;92mda:0\u001b[0m ∈ \u001b[1m[\u001b[0m\u001b[1;36m0.0\u001b[0m, \u001b[1;36m1.0\u001b[0m\u001b[1m]\u001b[0m\n"
      ]
     },
     "metadata": {},
     "output_type": "display_data"
    },
    {
     "data": {
      "image/png": "[encoded data removed]",
      "text/plain": [
       "<Figure size 640x480 with 1 Axes>"
      ]
     },
     "metadata": {},
     "output_type": "display_data"
    }
   ],
   "source": [
    "kiui.vis.plot_image(torch.tensor(np.array(detector(out['comp_rgb'].squeeze(0).detach().cpu() * 255)) / 255).unsqueeze(0).to(torch.float16).cuda())"
   ]
  },
  {
   "cell_type": "code",
   "execution_count": 51,
   "id": "1e5a1c85-83dd-43d2-97b2-1f1c1b0862bd",
   "metadata": {},
   "outputs": [],
   "source": [
    "seed = 0\n",
    "grad_clip_rgb = 5\n",
    "grad_suppress_type = 0"
   ]
  },
  {
   "cell_type": "code",
   "execution_count": 52,
   "id": "9d06e1b4-dce9-4335-819e-814fe7060f30",
   "metadata": {},
   "outputs": [],
   "source": [
    "random.seed(seed)\n",
    "os.environ['PYTHONHASHSEED'] = str(seed)\n",
    "np.random.seed(seed)\n",
    "torch.manual_seed(seed)\n",
    "torch.cuda.manual_seed(seed)\n",
    "torch.backends.cudnn.deterministic = True\n",
    "torch.backends.cudnn.benchmark = True"
   ]
  },
  {
   "cell_type": "code",
   "execution_count": 53,
   "id": "836e0ace-f560-409a-8440-ac1868b1f060",
   "metadata": {},
   "outputs": [
    {
     "name": "stderr",
     "output_type": "stream",
     "text": [
      "  0%|          | 0/3001 [00:00<?, ?it/s]camera distance range: [4.0, 4.0]\n",
      "  0%|          | 11/3001 [00:05<23:38,  2.11it/s] \n"
     ]
    },
    {
     "ename": "KeyboardInterrupt",
     "evalue": "",
     "output_type": "error",
     "traceback": [
      "\u001b[0;31m---------------------------------------------------------------------------\u001b[0m",
      "\u001b[0;31mKeyboardInterrupt\u001b[0m                         Traceback (most recent call last)",
      "Cell \u001b[0;32mIn[53], line 27\u001b[0m\n\u001b[1;32m     23\u001b[0m         kiui\u001b[38;5;241m.\u001b[39mutils\u001b[38;5;241m.\u001b[39mwrite_image(\u001b[38;5;124mf\u001b[39m\u001b[38;5;124m'\u001b[39m\u001b[38;5;124m./test_plot/1/\u001b[39m\u001b[38;5;132;01m{\u001b[39;00mstep\u001b[38;5;132;01m}\u001b[39;00m\u001b[38;5;124m.png\u001b[39m\u001b[38;5;124m'\u001b[39m, pred_rgb)\n\u001b[1;32m     25\u001b[0m     guidance\u001b[38;5;241m.\u001b[39mcfg\u001b[38;5;241m.\u001b[39mwarm_up_rate \u001b[38;5;241m=\u001b[39m \u001b[38;5;241m1.\u001b[39m \u001b[38;5;241m-\u001b[39m \u001b[38;5;28mmin\u001b[39m(step\u001b[38;5;241m/\u001b[39m\u001b[38;5;241m1000\u001b[39m, \u001b[38;5;241m1.\u001b[39m)\n\u001b[0;32m---> 27\u001b[0m     loss \u001b[38;5;241m=\u001b[39m \u001b[43mguidance\u001b[49m\u001b[43m(\u001b[49m\u001b[43mpred_rgb\u001b[49m\u001b[43m,\u001b[49m\u001b[43m \u001b[49m\u001b[43mcanny\u001b[49m\u001b[43m,\u001b[49m\u001b[43m \u001b[49m\u001b[38;5;241;43m*\u001b[39;49m\u001b[38;5;241;43m*\u001b[39;49m\u001b[43mbatch\u001b[49m\u001b[43m,\u001b[49m\u001b[43m \u001b[49m\u001b[43mrgb_as_latents\u001b[49m\u001b[38;5;241;43m=\u001b[39;49m\u001b[38;5;28;43;01mFalse\u001b[39;49;00m\u001b[43m,\u001b[49m\u001b[43m \u001b[49m\u001b[43mguidance_eval\u001b[49m\u001b[38;5;241;43m=\u001b[39;49m\u001b[38;5;28;43;01mFalse\u001b[39;49;00m\u001b[43m,\u001b[49m\u001b[43m \u001b[49m\u001b[43mprompt_utils\u001b[49m\u001b[38;5;241;43m=\u001b[39;49m\u001b[43mprompt_processor\u001b[49m\u001b[43m(\u001b[49m\u001b[43m)\u001b[49m\u001b[43m,\u001b[49m\u001b[43m \u001b[49m\u001b[43mcondition_scale\u001b[49m\u001b[38;5;241;43m=\u001b[39;49m\u001b[38;5;241;43m0.5\u001b[39;49m\u001b[43m)\u001b[49m\n\u001b[1;32m     28\u001b[0m     grad \u001b[38;5;241m=\u001b[39m loss[\u001b[38;5;124m'\u001b[39m\u001b[38;5;124mloss_sds\u001b[39m\u001b[38;5;124m'\u001b[39m]\n\u001b[1;32m     30\u001b[0m \u001b[38;5;66;03m# print(grad)\u001b[39;00m\n",
      "File \u001b[0;32m~/texture_exp/ours/threestudio/threestudio/models/guidance/stable_diffusion_ip_guidance.py:596\u001b[0m, in \u001b[0;36mStableDiffusionIPGuidance.__call__\u001b[0;34m(self, rgb, canny, prompt_utils, condition_scale, elevation, azimuth, camera_distances, rgb_as_latents, guidance_eval, **kwargs)\u001b[0m\n\u001b[1;32m    587\u001b[0m t \u001b[38;5;241m=\u001b[39m torch\u001b[38;5;241m.\u001b[39mrandint(\n\u001b[1;32m    588\u001b[0m     \u001b[38;5;28mself\u001b[39m\u001b[38;5;241m.\u001b[39mmin_step,\n\u001b[1;32m    589\u001b[0m     \u001b[38;5;28mself\u001b[39m\u001b[38;5;241m.\u001b[39mmax_step \u001b[38;5;241m+\u001b[39m \u001b[38;5;241m1\u001b[39m,\n\u001b[0;32m   (...)\u001b[0m\n\u001b[1;32m    592\u001b[0m     device\u001b[38;5;241m=\u001b[39m\u001b[38;5;28mself\u001b[39m\u001b[38;5;241m.\u001b[39mdevice,\n\u001b[1;32m    593\u001b[0m )\n\u001b[1;32m    594\u001b[0m \u001b[38;5;66;03m# t = kwargs['t_mid']\u001b[39;00m\n\u001b[0;32m--> 596\u001b[0m grad, grad_img, guidance_eval_utils \u001b[38;5;241m=\u001b[39m \u001b[38;5;28;43mself\u001b[39;49m\u001b[38;5;241;43m.\u001b[39;49m\u001b[43mcompute_grad_sds\u001b[49m\u001b[43m(\u001b[49m\n\u001b[1;32m    597\u001b[0m \u001b[43m    \u001b[49m\u001b[43mlatents\u001b[49m\u001b[43m,\u001b[49m\n\u001b[1;32m    598\u001b[0m \u001b[43m    \u001b[49m\u001b[43mrgb_BCHW_512\u001b[49m\u001b[43m,\u001b[49m\n\u001b[1;32m    599\u001b[0m \u001b[43m    \u001b[49m\u001b[43mcanny_BCHW_512\u001b[49m\u001b[43m,\u001b[49m\n\u001b[1;32m    600\u001b[0m \u001b[43m    \u001b[49m\u001b[43mt\u001b[49m\u001b[43m,\u001b[49m\n\u001b[1;32m    601\u001b[0m \u001b[43m    \u001b[49m\u001b[43mprompt_utils\u001b[49m\u001b[43m,\u001b[49m\n\u001b[1;32m    602\u001b[0m \u001b[43m    \u001b[49m\u001b[43melevation\u001b[49m\u001b[43m,\u001b[49m\n\u001b[1;32m    603\u001b[0m \u001b[43m    \u001b[49m\u001b[43mazimuth\u001b[49m\u001b[43m,\u001b[49m\n\u001b[1;32m    604\u001b[0m \u001b[43m    \u001b[49m\u001b[43mcamera_distances\u001b[49m\u001b[43m,\u001b[49m\n\u001b[1;32m    605\u001b[0m \u001b[43m    \u001b[49m\u001b[43mcondition_scale\u001b[49m\n\u001b[1;32m    606\u001b[0m \u001b[43m\u001b[49m\u001b[43m)\u001b[49m\n\u001b[1;32m    608\u001b[0m grad \u001b[38;5;241m=\u001b[39m torch\u001b[38;5;241m.\u001b[39mnan_to_num(grad)\n\u001b[1;32m    610\u001b[0m \u001b[38;5;66;03m# clip grad for stable training?\u001b[39;00m\n",
      "File \u001b[0;32m~/texture_exp/ours/threestudio/threestudio/models/guidance/stable_diffusion_ip_guidance.py:463\u001b[0m, in \u001b[0;36mStableDiffusionIPGuidance.compute_grad_sds\u001b[0;34m(self, latents, image, canny, t, prompt_utils, elevation, azimuth, camera_distances, condition_scale)\u001b[0m\n\u001b[1;32m    460\u001b[0m noise \u001b[38;5;241m=\u001b[39m torch\u001b[38;5;241m.\u001b[39mrandn(latents\u001b[38;5;241m.\u001b[39mshape, generator\u001b[38;5;241m=\u001b[39mgenerator, device\u001b[38;5;241m=\u001b[39m\u001b[38;5;28mself\u001b[39m\u001b[38;5;241m.\u001b[39mdevice)\n\u001b[1;32m    462\u001b[0m \u001b[38;5;28;01mwith\u001b[39;00m torch\u001b[38;5;241m.\u001b[39mno_grad():\n\u001b[0;32m--> 463\u001b[0m     _, prev_latents_noisy, pred_scores_xs \u001b[38;5;241m=\u001b[39m \u001b[38;5;28;43mself\u001b[39;49m\u001b[38;5;241;43m.\u001b[39;49m\u001b[43madd_noise_with_cfg\u001b[49m\u001b[43m(\u001b[49m\u001b[43mlatents\u001b[49m\u001b[43m,\u001b[49m\u001b[43m \u001b[49m\u001b[43mcanny\u001b[49m\u001b[43m,\u001b[49m\u001b[43m \u001b[49m\u001b[43mnoise\u001b[49m\u001b[43m,\u001b[49m\u001b[43m \u001b[49m\u001b[43mind_prev_t\u001b[49m\u001b[43m,\u001b[49m\u001b[43m \u001b[49m\u001b[43mstarting_ind\u001b[49m\u001b[43m,\u001b[49m\u001b[43m \u001b[49m\u001b[43mcondition_scale\u001b[49m\u001b[43m,\u001b[49m\n\u001b[1;32m    464\u001b[0m \u001b[43m                                                                \u001b[49m\u001b[38;5;241;43m1.0\u001b[39;49m\u001b[43m,\u001b[49m\u001b[43m \u001b[49m\u001b[43muncond_embeddings\u001b[49m\u001b[43m,\u001b[49m\u001b[43m \u001b[49m\u001b[38;5;28;43mself\u001b[39;49m\u001b[38;5;241;43m.\u001b[39;49m\u001b[43mcfg\u001b[49m\u001b[38;5;241;43m.\u001b[39;49m\u001b[43mxs_delta_t\u001b[49m\u001b[43m,\u001b[49m\u001b[43m \u001b[49m\u001b[38;5;28;43mself\u001b[39;49m\u001b[38;5;241;43m.\u001b[39;49m\u001b[43mcfg\u001b[49m\u001b[38;5;241;43m.\u001b[39;49m\u001b[43mxs_inv_steps\u001b[49m\u001b[43m,\u001b[49m\u001b[43m \u001b[49m\u001b[43meta\u001b[49m\u001b[38;5;241;43m=\u001b[39;49m\u001b[38;5;241;43m0.0\u001b[39;49m\u001b[43m)\u001b[49m\n\u001b[1;32m    465\u001b[0m     _, latents_noisy, pred_scores_xt \u001b[38;5;241m=\u001b[39m \u001b[38;5;28mself\u001b[39m\u001b[38;5;241m.\u001b[39madd_noise_with_cfg(prev_latents_noisy, canny, noise, t, ind_prev_t, condition_scale,\n\u001b[1;32m    466\u001b[0m                                                             \u001b[38;5;241m1.0\u001b[39m, uncond_embeddings, current_delta_t, \u001b[38;5;241m1\u001b[39m, eta\u001b[38;5;241m=\u001b[39m\u001b[38;5;241m0.0\u001b[39m, is_noisy_latent\u001b[38;5;241m=\u001b[39m\u001b[38;5;28;01mTrue\u001b[39;00m)\n\u001b[1;32m    467\u001b[0m     \u001b[38;5;66;03m# _, latents_noisy_mu, pred_scores_mu = self.add_noise_with_cfg(prev_latents_noisy, noise, mu, ind_prev_t,\u001b[39;00m\n\u001b[1;32m    468\u001b[0m     \u001b[38;5;66;03m#                                                         1.0, uncond_embeddings, current_delta_t, 1, eta=0.0, is_noisy_latent=True)\u001b[39;00m\n",
      "File \u001b[0;32m~/texture_exp/ours/threestudio/threestudio/models/guidance/stable_diffusion_ip_guidance.py:310\u001b[0m, in \u001b[0;36mStableDiffusionIPGuidance.add_noise_with_cfg\u001b[0;34m(self, latents, canny, noise, ind_t, ind_prev_t, condition_scale, cfg, text_embeddings, delta_t, inv_steps, is_noisy_latent, eta)\u001b[0m\n\u001b[1;32m    297\u001b[0m     timestep_model_input \u001b[38;5;241m=\u001b[39m \u001b[38;5;28mself\u001b[39m\u001b[38;5;241m.\u001b[39mtimesteps[cur_ind_t]\u001b[38;5;241m.\u001b[39mreshape(\u001b[38;5;241m1\u001b[39m, \u001b[38;5;241m1\u001b[39m)\u001b[38;5;241m.\u001b[39mrepeat(cur_noisy_lat_\u001b[38;5;241m.\u001b[39mshape[\u001b[38;5;241m0\u001b[39m], \u001b[38;5;241m1\u001b[39m)\u001b[38;5;241m.\u001b[39mreshape(\u001b[38;5;241m-\u001b[39m\u001b[38;5;241m1\u001b[39m)\n\u001b[1;32m    299\u001b[0m     down_block_res_samples, mid_block_res_sample \u001b[38;5;241m=\u001b[39m \u001b[38;5;28mself\u001b[39m\u001b[38;5;241m.\u001b[39mcontrolnet(\n\u001b[1;32m    300\u001b[0m         cur_noisy_lat_,\n\u001b[1;32m    301\u001b[0m         timestep_model_input,\n\u001b[0;32m   (...)\u001b[0m\n\u001b[1;32m    306\u001b[0m         return_dict\u001b[38;5;241m=\u001b[39m\u001b[38;5;28;01mFalse\u001b[39;00m,\n\u001b[1;32m    307\u001b[0m     )\n\u001b[0;32m--> 310\u001b[0m     unet_output \u001b[38;5;241m=\u001b[39m \u001b[38;5;28;43mself\u001b[39;49m\u001b[38;5;241;43m.\u001b[39;49m\u001b[43munet\u001b[49m\u001b[43m(\u001b[49m\n\u001b[1;32m    311\u001b[0m \u001b[43m        \u001b[49m\u001b[43mcur_noisy_lat_\u001b[49m\u001b[43m,\u001b[49m\n\u001b[1;32m    312\u001b[0m \u001b[43m        \u001b[49m\u001b[43mtimestep_model_input\u001b[49m\u001b[43m,\u001b[49m\n\u001b[1;32m    313\u001b[0m \u001b[43m        \u001b[49m\u001b[43mdown_block_additional_residuals\u001b[49m\u001b[38;5;241;43m=\u001b[39;49m\u001b[43mdown_block_res_samples\u001b[49m\u001b[43m,\u001b[49m\n\u001b[1;32m    314\u001b[0m \u001b[43m        \u001b[49m\u001b[43mmid_block_additional_residual\u001b[49m\u001b[38;5;241;43m=\u001b[39;49m\u001b[43mmid_block_res_sample\u001b[49m\u001b[43m,\u001b[49m\n\u001b[1;32m    315\u001b[0m \u001b[43m        \u001b[49m\u001b[43mencoder_hidden_states\u001b[49m\u001b[38;5;241;43m=\u001b[39;49m\u001b[43mtext_embeddings\u001b[49m\n\u001b[1;32m    316\u001b[0m \u001b[43m    \u001b[49m\u001b[43m)\u001b[49m\u001b[38;5;241m.\u001b[39msample\n\u001b[1;32m    319\u001b[0m pred_scores\u001b[38;5;241m.\u001b[39mappend((cur_ind_t, unet_output))\n\u001b[1;32m    321\u001b[0m next_ind_t \u001b[38;5;241m=\u001b[39m \u001b[38;5;28mmin\u001b[39m(cur_ind_t \u001b[38;5;241m+\u001b[39m delta_t, ind_t)\n",
      "File \u001b[0;32m~/anaconda3/envs/threestudio/lib/python3.10/site-packages/torch/nn/modules/module.py:1501\u001b[0m, in \u001b[0;36mModule._call_impl\u001b[0;34m(self, *args, **kwargs)\u001b[0m\n\u001b[1;32m   1496\u001b[0m \u001b[38;5;66;03m# If we don't have any hooks, we want to skip the rest of the logic in\u001b[39;00m\n\u001b[1;32m   1497\u001b[0m \u001b[38;5;66;03m# this function, and just call forward.\u001b[39;00m\n\u001b[1;32m   1498\u001b[0m \u001b[38;5;28;01mif\u001b[39;00m \u001b[38;5;129;01mnot\u001b[39;00m (\u001b[38;5;28mself\u001b[39m\u001b[38;5;241m.\u001b[39m_backward_hooks \u001b[38;5;129;01mor\u001b[39;00m \u001b[38;5;28mself\u001b[39m\u001b[38;5;241m.\u001b[39m_backward_pre_hooks \u001b[38;5;129;01mor\u001b[39;00m \u001b[38;5;28mself\u001b[39m\u001b[38;5;241m.\u001b[39m_forward_hooks \u001b[38;5;129;01mor\u001b[39;00m \u001b[38;5;28mself\u001b[39m\u001b[38;5;241m.\u001b[39m_forward_pre_hooks\n\u001b[1;32m   1499\u001b[0m         \u001b[38;5;129;01mor\u001b[39;00m _global_backward_pre_hooks \u001b[38;5;129;01mor\u001b[39;00m _global_backward_hooks\n\u001b[1;32m   1500\u001b[0m         \u001b[38;5;129;01mor\u001b[39;00m _global_forward_hooks \u001b[38;5;129;01mor\u001b[39;00m _global_forward_pre_hooks):\n\u001b[0;32m-> 1501\u001b[0m     \u001b[38;5;28;01mreturn\u001b[39;00m \u001b[43mforward_call\u001b[49m\u001b[43m(\u001b[49m\u001b[38;5;241;43m*\u001b[39;49m\u001b[43margs\u001b[49m\u001b[43m,\u001b[49m\u001b[43m \u001b[49m\u001b[38;5;241;43m*\u001b[39;49m\u001b[38;5;241;43m*\u001b[39;49m\u001b[43mkwargs\u001b[49m\u001b[43m)\u001b[49m\n\u001b[1;32m   1502\u001b[0m \u001b[38;5;66;03m# Do not call functions when jit is used\u001b[39;00m\n\u001b[1;32m   1503\u001b[0m full_backward_hooks, non_full_backward_hooks \u001b[38;5;241m=\u001b[39m [], []\n",
      "File \u001b[0;32m~/anaconda3/envs/threestudio/lib/python3.10/site-packages/diffusers/models/unet_2d_condition.py:1066\u001b[0m, in \u001b[0;36mUNet2DConditionModel.forward\u001b[0;34m(self, sample, timestep, encoder_hidden_states, class_labels, timestep_cond, attention_mask, cross_attention_kwargs, added_cond_kwargs, down_block_additional_residuals, mid_block_additional_residual, down_intrablock_additional_residuals, encoder_attention_mask, return_dict)\u001b[0m\n\u001b[1;32m   1063\u001b[0m     \u001b[38;5;28;01mif\u001b[39;00m is_adapter \u001b[38;5;129;01mand\u001b[39;00m \u001b[38;5;28mlen\u001b[39m(down_intrablock_additional_residuals) \u001b[38;5;241m>\u001b[39m \u001b[38;5;241m0\u001b[39m:\n\u001b[1;32m   1064\u001b[0m         additional_residuals[\u001b[38;5;124m\"\u001b[39m\u001b[38;5;124madditional_residuals\u001b[39m\u001b[38;5;124m\"\u001b[39m] \u001b[38;5;241m=\u001b[39m down_intrablock_additional_residuals\u001b[38;5;241m.\u001b[39mpop(\u001b[38;5;241m0\u001b[39m)\n\u001b[0;32m-> 1066\u001b[0m     sample, res_samples \u001b[38;5;241m=\u001b[39m \u001b[43mdownsample_block\u001b[49m\u001b[43m(\u001b[49m\n\u001b[1;32m   1067\u001b[0m \u001b[43m        \u001b[49m\u001b[43mhidden_states\u001b[49m\u001b[38;5;241;43m=\u001b[39;49m\u001b[43msample\u001b[49m\u001b[43m,\u001b[49m\n\u001b[1;32m   1068\u001b[0m \u001b[43m        \u001b[49m\u001b[43mtemb\u001b[49m\u001b[38;5;241;43m=\u001b[39;49m\u001b[43memb\u001b[49m\u001b[43m,\u001b[49m\n\u001b[1;32m   1069\u001b[0m \u001b[43m        \u001b[49m\u001b[43mencoder_hidden_states\u001b[49m\u001b[38;5;241;43m=\u001b[39;49m\u001b[43mencoder_hidden_states\u001b[49m\u001b[43m,\u001b[49m\n\u001b[1;32m   1070\u001b[0m \u001b[43m        \u001b[49m\u001b[43mattention_mask\u001b[49m\u001b[38;5;241;43m=\u001b[39;49m\u001b[43mattention_mask\u001b[49m\u001b[43m,\u001b[49m\n\u001b[1;32m   1071\u001b[0m \u001b[43m        \u001b[49m\u001b[43mcross_attention_kwargs\u001b[49m\u001b[38;5;241;43m=\u001b[39;49m\u001b[43mcross_attention_kwargs\u001b[49m\u001b[43m,\u001b[49m\n\u001b[1;32m   1072\u001b[0m \u001b[43m        \u001b[49m\u001b[43mencoder_attention_mask\u001b[49m\u001b[38;5;241;43m=\u001b[39;49m\u001b[43mencoder_attention_mask\u001b[49m\u001b[43m,\u001b[49m\n\u001b[1;32m   1073\u001b[0m \u001b[43m        \u001b[49m\u001b[38;5;241;43m*\u001b[39;49m\u001b[38;5;241;43m*\u001b[39;49m\u001b[43madditional_residuals\u001b[49m\u001b[43m,\u001b[49m\n\u001b[1;32m   1074\u001b[0m \u001b[43m    \u001b[49m\u001b[43m)\u001b[49m\n\u001b[1;32m   1075\u001b[0m \u001b[38;5;28;01melse\u001b[39;00m:\n\u001b[1;32m   1076\u001b[0m     sample, res_samples \u001b[38;5;241m=\u001b[39m downsample_block(hidden_states\u001b[38;5;241m=\u001b[39msample, temb\u001b[38;5;241m=\u001b[39memb, scale\u001b[38;5;241m=\u001b[39mlora_scale)\n",
      "File \u001b[0;32m~/anaconda3/envs/threestudio/lib/python3.10/site-packages/torch/nn/modules/module.py:1501\u001b[0m, in \u001b[0;36mModule._call_impl\u001b[0;34m(self, *args, **kwargs)\u001b[0m\n\u001b[1;32m   1496\u001b[0m \u001b[38;5;66;03m# If we don't have any hooks, we want to skip the rest of the logic in\u001b[39;00m\n\u001b[1;32m   1497\u001b[0m \u001b[38;5;66;03m# this function, and just call forward.\u001b[39;00m\n\u001b[1;32m   1498\u001b[0m \u001b[38;5;28;01mif\u001b[39;00m \u001b[38;5;129;01mnot\u001b[39;00m (\u001b[38;5;28mself\u001b[39m\u001b[38;5;241m.\u001b[39m_backward_hooks \u001b[38;5;129;01mor\u001b[39;00m \u001b[38;5;28mself\u001b[39m\u001b[38;5;241m.\u001b[39m_backward_pre_hooks \u001b[38;5;129;01mor\u001b[39;00m \u001b[38;5;28mself\u001b[39m\u001b[38;5;241m.\u001b[39m_forward_hooks \u001b[38;5;129;01mor\u001b[39;00m \u001b[38;5;28mself\u001b[39m\u001b[38;5;241m.\u001b[39m_forward_pre_hooks\n\u001b[1;32m   1499\u001b[0m         \u001b[38;5;129;01mor\u001b[39;00m _global_backward_pre_hooks \u001b[38;5;129;01mor\u001b[39;00m _global_backward_hooks\n\u001b[1;32m   1500\u001b[0m         \u001b[38;5;129;01mor\u001b[39;00m _global_forward_hooks \u001b[38;5;129;01mor\u001b[39;00m _global_forward_pre_hooks):\n\u001b[0;32m-> 1501\u001b[0m     \u001b[38;5;28;01mreturn\u001b[39;00m \u001b[43mforward_call\u001b[49m\u001b[43m(\u001b[49m\u001b[38;5;241;43m*\u001b[39;49m\u001b[43margs\u001b[49m\u001b[43m,\u001b[49m\u001b[43m \u001b[49m\u001b[38;5;241;43m*\u001b[39;49m\u001b[38;5;241;43m*\u001b[39;49m\u001b[43mkwargs\u001b[49m\u001b[43m)\u001b[49m\n\u001b[1;32m   1502\u001b[0m \u001b[38;5;66;03m# Do not call functions when jit is used\u001b[39;00m\n\u001b[1;32m   1503\u001b[0m full_backward_hooks, non_full_backward_hooks \u001b[38;5;241m=\u001b[39m [], []\n",
      "File \u001b[0;32m~/anaconda3/envs/threestudio/lib/python3.10/site-packages/diffusers/models/unet_2d_blocks.py:1160\u001b[0m, in \u001b[0;36mCrossAttnDownBlock2D.forward\u001b[0;34m(self, hidden_states, temb, encoder_hidden_states, attention_mask, cross_attention_kwargs, encoder_attention_mask, additional_residuals)\u001b[0m\n\u001b[1;32m   1158\u001b[0m \u001b[38;5;28;01melse\u001b[39;00m:\n\u001b[1;32m   1159\u001b[0m     hidden_states \u001b[38;5;241m=\u001b[39m resnet(hidden_states, temb, scale\u001b[38;5;241m=\u001b[39mlora_scale)\n\u001b[0;32m-> 1160\u001b[0m     hidden_states \u001b[38;5;241m=\u001b[39m \u001b[43mattn\u001b[49m\u001b[43m(\u001b[49m\n\u001b[1;32m   1161\u001b[0m \u001b[43m        \u001b[49m\u001b[43mhidden_states\u001b[49m\u001b[43m,\u001b[49m\n\u001b[1;32m   1162\u001b[0m \u001b[43m        \u001b[49m\u001b[43mencoder_hidden_states\u001b[49m\u001b[38;5;241;43m=\u001b[39;49m\u001b[43mencoder_hidden_states\u001b[49m\u001b[43m,\u001b[49m\n\u001b[1;32m   1163\u001b[0m \u001b[43m        \u001b[49m\u001b[43mcross_attention_kwargs\u001b[49m\u001b[38;5;241;43m=\u001b[39;49m\u001b[43mcross_attention_kwargs\u001b[49m\u001b[43m,\u001b[49m\n\u001b[1;32m   1164\u001b[0m \u001b[43m        \u001b[49m\u001b[43mattention_mask\u001b[49m\u001b[38;5;241;43m=\u001b[39;49m\u001b[43mattention_mask\u001b[49m\u001b[43m,\u001b[49m\n\u001b[1;32m   1165\u001b[0m \u001b[43m        \u001b[49m\u001b[43mencoder_attention_mask\u001b[49m\u001b[38;5;241;43m=\u001b[39;49m\u001b[43mencoder_attention_mask\u001b[49m\u001b[43m,\u001b[49m\n\u001b[1;32m   1166\u001b[0m \u001b[43m        \u001b[49m\u001b[43mreturn_dict\u001b[49m\u001b[38;5;241;43m=\u001b[39;49m\u001b[38;5;28;43;01mFalse\u001b[39;49;00m\u001b[43m,\u001b[49m\n\u001b[1;32m   1167\u001b[0m \u001b[43m    \u001b[49m\u001b[43m)\u001b[49m[\u001b[38;5;241m0\u001b[39m]\n\u001b[1;32m   1169\u001b[0m \u001b[38;5;66;03m# apply additional residuals to the output of the last pair of resnet and attention blocks\u001b[39;00m\n\u001b[1;32m   1170\u001b[0m \u001b[38;5;28;01mif\u001b[39;00m i \u001b[38;5;241m==\u001b[39m \u001b[38;5;28mlen\u001b[39m(blocks) \u001b[38;5;241m-\u001b[39m \u001b[38;5;241m1\u001b[39m \u001b[38;5;129;01mand\u001b[39;00m additional_residuals \u001b[38;5;129;01mis\u001b[39;00m \u001b[38;5;129;01mnot\u001b[39;00m \u001b[38;5;28;01mNone\u001b[39;00m:\n",
      "File \u001b[0;32m~/anaconda3/envs/threestudio/lib/python3.10/site-packages/torch/nn/modules/module.py:1501\u001b[0m, in \u001b[0;36mModule._call_impl\u001b[0;34m(self, *args, **kwargs)\u001b[0m\n\u001b[1;32m   1496\u001b[0m \u001b[38;5;66;03m# If we don't have any hooks, we want to skip the rest of the logic in\u001b[39;00m\n\u001b[1;32m   1497\u001b[0m \u001b[38;5;66;03m# this function, and just call forward.\u001b[39;00m\n\u001b[1;32m   1498\u001b[0m \u001b[38;5;28;01mif\u001b[39;00m \u001b[38;5;129;01mnot\u001b[39;00m (\u001b[38;5;28mself\u001b[39m\u001b[38;5;241m.\u001b[39m_backward_hooks \u001b[38;5;129;01mor\u001b[39;00m \u001b[38;5;28mself\u001b[39m\u001b[38;5;241m.\u001b[39m_backward_pre_hooks \u001b[38;5;129;01mor\u001b[39;00m \u001b[38;5;28mself\u001b[39m\u001b[38;5;241m.\u001b[39m_forward_hooks \u001b[38;5;129;01mor\u001b[39;00m \u001b[38;5;28mself\u001b[39m\u001b[38;5;241m.\u001b[39m_forward_pre_hooks\n\u001b[1;32m   1499\u001b[0m         \u001b[38;5;129;01mor\u001b[39;00m _global_backward_pre_hooks \u001b[38;5;129;01mor\u001b[39;00m _global_backward_hooks\n\u001b[1;32m   1500\u001b[0m         \u001b[38;5;129;01mor\u001b[39;00m _global_forward_hooks \u001b[38;5;129;01mor\u001b[39;00m _global_forward_pre_hooks):\n\u001b[0;32m-> 1501\u001b[0m     \u001b[38;5;28;01mreturn\u001b[39;00m \u001b[43mforward_call\u001b[49m\u001b[43m(\u001b[49m\u001b[38;5;241;43m*\u001b[39;49m\u001b[43margs\u001b[49m\u001b[43m,\u001b[49m\u001b[43m \u001b[49m\u001b[38;5;241;43m*\u001b[39;49m\u001b[38;5;241;43m*\u001b[39;49m\u001b[43mkwargs\u001b[49m\u001b[43m)\u001b[49m\n\u001b[1;32m   1502\u001b[0m \u001b[38;5;66;03m# Do not call functions when jit is used\u001b[39;00m\n\u001b[1;32m   1503\u001b[0m full_backward_hooks, non_full_backward_hooks \u001b[38;5;241m=\u001b[39m [], []\n",
      "File \u001b[0;32m~/anaconda3/envs/threestudio/lib/python3.10/site-packages/diffusers/models/transformer_2d.py:375\u001b[0m, in \u001b[0;36mTransformer2DModel.forward\u001b[0;34m(self, hidden_states, encoder_hidden_states, timestep, added_cond_kwargs, class_labels, cross_attention_kwargs, attention_mask, encoder_attention_mask, return_dict)\u001b[0m\n\u001b[1;32m    363\u001b[0m         hidden_states \u001b[38;5;241m=\u001b[39m torch\u001b[38;5;241m.\u001b[39mutils\u001b[38;5;241m.\u001b[39mcheckpoint\u001b[38;5;241m.\u001b[39mcheckpoint(\n\u001b[1;32m    364\u001b[0m             block,\n\u001b[1;32m    365\u001b[0m             hidden_states,\n\u001b[0;32m   (...)\u001b[0m\n\u001b[1;32m    372\u001b[0m             use_reentrant\u001b[38;5;241m=\u001b[39m\u001b[38;5;28;01mFalse\u001b[39;00m,\n\u001b[1;32m    373\u001b[0m         )\n\u001b[1;32m    374\u001b[0m     \u001b[38;5;28;01melse\u001b[39;00m:\n\u001b[0;32m--> 375\u001b[0m         hidden_states \u001b[38;5;241m=\u001b[39m \u001b[43mblock\u001b[49m\u001b[43m(\u001b[49m\n\u001b[1;32m    376\u001b[0m \u001b[43m            \u001b[49m\u001b[43mhidden_states\u001b[49m\u001b[43m,\u001b[49m\n\u001b[1;32m    377\u001b[0m \u001b[43m            \u001b[49m\u001b[43mattention_mask\u001b[49m\u001b[38;5;241;43m=\u001b[39;49m\u001b[43mattention_mask\u001b[49m\u001b[43m,\u001b[49m\n\u001b[1;32m    378\u001b[0m \u001b[43m            \u001b[49m\u001b[43mencoder_hidden_states\u001b[49m\u001b[38;5;241;43m=\u001b[39;49m\u001b[43mencoder_hidden_states\u001b[49m\u001b[43m,\u001b[49m\n\u001b[1;32m    379\u001b[0m \u001b[43m            \u001b[49m\u001b[43mencoder_attention_mask\u001b[49m\u001b[38;5;241;43m=\u001b[39;49m\u001b[43mencoder_attention_mask\u001b[49m\u001b[43m,\u001b[49m\n\u001b[1;32m    380\u001b[0m \u001b[43m            \u001b[49m\u001b[43mtimestep\u001b[49m\u001b[38;5;241;43m=\u001b[39;49m\u001b[43mtimestep\u001b[49m\u001b[43m,\u001b[49m\n\u001b[1;32m    381\u001b[0m \u001b[43m            \u001b[49m\u001b[43mcross_attention_kwargs\u001b[49m\u001b[38;5;241;43m=\u001b[39;49m\u001b[43mcross_attention_kwargs\u001b[49m\u001b[43m,\u001b[49m\n\u001b[1;32m    382\u001b[0m \u001b[43m            \u001b[49m\u001b[43mclass_labels\u001b[49m\u001b[38;5;241;43m=\u001b[39;49m\u001b[43mclass_labels\u001b[49m\u001b[43m,\u001b[49m\n\u001b[1;32m    383\u001b[0m \u001b[43m        \u001b[49m\u001b[43m)\u001b[49m\n\u001b[1;32m    385\u001b[0m \u001b[38;5;66;03m# 3. Output\u001b[39;00m\n\u001b[1;32m    386\u001b[0m \u001b[38;5;28;01mif\u001b[39;00m \u001b[38;5;28mself\u001b[39m\u001b[38;5;241m.\u001b[39mis_input_continuous:\n",
      "File \u001b[0;32m~/anaconda3/envs/threestudio/lib/python3.10/site-packages/torch/nn/modules/module.py:1501\u001b[0m, in \u001b[0;36mModule._call_impl\u001b[0;34m(self, *args, **kwargs)\u001b[0m\n\u001b[1;32m   1496\u001b[0m \u001b[38;5;66;03m# If we don't have any hooks, we want to skip the rest of the logic in\u001b[39;00m\n\u001b[1;32m   1497\u001b[0m \u001b[38;5;66;03m# this function, and just call forward.\u001b[39;00m\n\u001b[1;32m   1498\u001b[0m \u001b[38;5;28;01mif\u001b[39;00m \u001b[38;5;129;01mnot\u001b[39;00m (\u001b[38;5;28mself\u001b[39m\u001b[38;5;241m.\u001b[39m_backward_hooks \u001b[38;5;129;01mor\u001b[39;00m \u001b[38;5;28mself\u001b[39m\u001b[38;5;241m.\u001b[39m_backward_pre_hooks \u001b[38;5;129;01mor\u001b[39;00m \u001b[38;5;28mself\u001b[39m\u001b[38;5;241m.\u001b[39m_forward_hooks \u001b[38;5;129;01mor\u001b[39;00m \u001b[38;5;28mself\u001b[39m\u001b[38;5;241m.\u001b[39m_forward_pre_hooks\n\u001b[1;32m   1499\u001b[0m         \u001b[38;5;129;01mor\u001b[39;00m _global_backward_pre_hooks \u001b[38;5;129;01mor\u001b[39;00m _global_backward_hooks\n\u001b[1;32m   1500\u001b[0m         \u001b[38;5;129;01mor\u001b[39;00m _global_forward_hooks \u001b[38;5;129;01mor\u001b[39;00m _global_forward_pre_hooks):\n\u001b[0;32m-> 1501\u001b[0m     \u001b[38;5;28;01mreturn\u001b[39;00m \u001b[43mforward_call\u001b[49m\u001b[43m(\u001b[49m\u001b[38;5;241;43m*\u001b[39;49m\u001b[43margs\u001b[49m\u001b[43m,\u001b[49m\u001b[43m \u001b[49m\u001b[38;5;241;43m*\u001b[39;49m\u001b[38;5;241;43m*\u001b[39;49m\u001b[43mkwargs\u001b[49m\u001b[43m)\u001b[49m\n\u001b[1;32m   1502\u001b[0m \u001b[38;5;66;03m# Do not call functions when jit is used\u001b[39;00m\n\u001b[1;32m   1503\u001b[0m full_backward_hooks, non_full_backward_hooks \u001b[38;5;241m=\u001b[39m [], []\n",
      "File \u001b[0;32m~/anaconda3/envs/threestudio/lib/python3.10/site-packages/diffusers/models/attention.py:293\u001b[0m, in \u001b[0;36mBasicTransformerBlock.forward\u001b[0;34m(self, hidden_states, attention_mask, encoder_hidden_states, encoder_attention_mask, timestep, cross_attention_kwargs, class_labels)\u001b[0m\n\u001b[1;32m    290\u001b[0m     \u001b[38;5;28;01mif\u001b[39;00m \u001b[38;5;28mself\u001b[39m\u001b[38;5;241m.\u001b[39mpos_embed \u001b[38;5;129;01mis\u001b[39;00m \u001b[38;5;129;01mnot\u001b[39;00m \u001b[38;5;28;01mNone\u001b[39;00m \u001b[38;5;129;01mand\u001b[39;00m \u001b[38;5;28mself\u001b[39m\u001b[38;5;241m.\u001b[39muse_ada_layer_norm_single \u001b[38;5;129;01mis\u001b[39;00m \u001b[38;5;28;01mFalse\u001b[39;00m:\n\u001b[1;32m    291\u001b[0m         norm_hidden_states \u001b[38;5;241m=\u001b[39m \u001b[38;5;28mself\u001b[39m\u001b[38;5;241m.\u001b[39mpos_embed(norm_hidden_states)\n\u001b[0;32m--> 293\u001b[0m     attn_output \u001b[38;5;241m=\u001b[39m \u001b[38;5;28;43mself\u001b[39;49m\u001b[38;5;241;43m.\u001b[39;49m\u001b[43mattn2\u001b[49m\u001b[43m(\u001b[49m\n\u001b[1;32m    294\u001b[0m \u001b[43m        \u001b[49m\u001b[43mnorm_hidden_states\u001b[49m\u001b[43m,\u001b[49m\n\u001b[1;32m    295\u001b[0m \u001b[43m        \u001b[49m\u001b[43mencoder_hidden_states\u001b[49m\u001b[38;5;241;43m=\u001b[39;49m\u001b[43mencoder_hidden_states\u001b[49m\u001b[43m,\u001b[49m\n\u001b[1;32m    296\u001b[0m \u001b[43m        \u001b[49m\u001b[43mattention_mask\u001b[49m\u001b[38;5;241;43m=\u001b[39;49m\u001b[43mencoder_attention_mask\u001b[49m\u001b[43m,\u001b[49m\n\u001b[1;32m    297\u001b[0m \u001b[43m        \u001b[49m\u001b[38;5;241;43m*\u001b[39;49m\u001b[38;5;241;43m*\u001b[39;49m\u001b[43mcross_attention_kwargs\u001b[49m\u001b[43m,\u001b[49m\n\u001b[1;32m    298\u001b[0m \u001b[43m    \u001b[49m\u001b[43m)\u001b[49m\n\u001b[1;32m    299\u001b[0m     hidden_states \u001b[38;5;241m=\u001b[39m attn_output \u001b[38;5;241m+\u001b[39m hidden_states\n\u001b[1;32m    301\u001b[0m \u001b[38;5;66;03m# 4. Feed-forward\u001b[39;00m\n",
      "File \u001b[0;32m~/anaconda3/envs/threestudio/lib/python3.10/site-packages/torch/nn/modules/module.py:1501\u001b[0m, in \u001b[0;36mModule._call_impl\u001b[0;34m(self, *args, **kwargs)\u001b[0m\n\u001b[1;32m   1496\u001b[0m \u001b[38;5;66;03m# If we don't have any hooks, we want to skip the rest of the logic in\u001b[39;00m\n\u001b[1;32m   1497\u001b[0m \u001b[38;5;66;03m# this function, and just call forward.\u001b[39;00m\n\u001b[1;32m   1498\u001b[0m \u001b[38;5;28;01mif\u001b[39;00m \u001b[38;5;129;01mnot\u001b[39;00m (\u001b[38;5;28mself\u001b[39m\u001b[38;5;241m.\u001b[39m_backward_hooks \u001b[38;5;129;01mor\u001b[39;00m \u001b[38;5;28mself\u001b[39m\u001b[38;5;241m.\u001b[39m_backward_pre_hooks \u001b[38;5;129;01mor\u001b[39;00m \u001b[38;5;28mself\u001b[39m\u001b[38;5;241m.\u001b[39m_forward_hooks \u001b[38;5;129;01mor\u001b[39;00m \u001b[38;5;28mself\u001b[39m\u001b[38;5;241m.\u001b[39m_forward_pre_hooks\n\u001b[1;32m   1499\u001b[0m         \u001b[38;5;129;01mor\u001b[39;00m _global_backward_pre_hooks \u001b[38;5;129;01mor\u001b[39;00m _global_backward_hooks\n\u001b[1;32m   1500\u001b[0m         \u001b[38;5;129;01mor\u001b[39;00m _global_forward_hooks \u001b[38;5;129;01mor\u001b[39;00m _global_forward_pre_hooks):\n\u001b[0;32m-> 1501\u001b[0m     \u001b[38;5;28;01mreturn\u001b[39;00m \u001b[43mforward_call\u001b[49m\u001b[43m(\u001b[49m\u001b[38;5;241;43m*\u001b[39;49m\u001b[43margs\u001b[49m\u001b[43m,\u001b[49m\u001b[43m \u001b[49m\u001b[38;5;241;43m*\u001b[39;49m\u001b[38;5;241;43m*\u001b[39;49m\u001b[43mkwargs\u001b[49m\u001b[43m)\u001b[49m\n\u001b[1;32m   1502\u001b[0m \u001b[38;5;66;03m# Do not call functions when jit is used\u001b[39;00m\n\u001b[1;32m   1503\u001b[0m full_backward_hooks, non_full_backward_hooks \u001b[38;5;241m=\u001b[39m [], []\n",
      "File \u001b[0;32m~/anaconda3/envs/threestudio/lib/python3.10/site-packages/diffusers/models/attention_processor.py:522\u001b[0m, in \u001b[0;36mAttention.forward\u001b[0;34m(self, hidden_states, encoder_hidden_states, attention_mask, **cross_attention_kwargs)\u001b[0m\n\u001b[1;32m    503\u001b[0m \u001b[38;5;250m\u001b[39m\u001b[38;5;124mr\u001b[39m\u001b[38;5;124;03m\"\"\"\u001b[39;00m\n\u001b[1;32m    504\u001b[0m \u001b[38;5;124;03mThe forward method of the `Attention` class.\u001b[39;00m\n\u001b[1;32m    505\u001b[0m \n\u001b[0;32m   (...)\u001b[0m\n\u001b[1;32m    517\u001b[0m \u001b[38;5;124;03m    `torch.Tensor`: The output of the attention layer.\u001b[39;00m\n\u001b[1;32m    518\u001b[0m \u001b[38;5;124;03m\"\"\"\u001b[39;00m\n\u001b[1;32m    519\u001b[0m \u001b[38;5;66;03m# The `Attention` class can call different attention processors / attention functions\u001b[39;00m\n\u001b[1;32m    520\u001b[0m \u001b[38;5;66;03m# here we simply pass along all tensors to the selected processor class\u001b[39;00m\n\u001b[1;32m    521\u001b[0m \u001b[38;5;66;03m# For standard processors that are defined here, `**cross_attention_kwargs` is empty\u001b[39;00m\n\u001b[0;32m--> 522\u001b[0m \u001b[38;5;28;01mreturn\u001b[39;00m \u001b[38;5;28;43mself\u001b[39;49m\u001b[38;5;241;43m.\u001b[39;49m\u001b[43mprocessor\u001b[49m\u001b[43m(\u001b[49m\n\u001b[1;32m    523\u001b[0m \u001b[43m    \u001b[49m\u001b[38;5;28;43mself\u001b[39;49m\u001b[43m,\u001b[49m\n\u001b[1;32m    524\u001b[0m \u001b[43m    \u001b[49m\u001b[43mhidden_states\u001b[49m\u001b[43m,\u001b[49m\n\u001b[1;32m    525\u001b[0m \u001b[43m    \u001b[49m\u001b[43mencoder_hidden_states\u001b[49m\u001b[38;5;241;43m=\u001b[39;49m\u001b[43mencoder_hidden_states\u001b[49m\u001b[43m,\u001b[49m\n\u001b[1;32m    526\u001b[0m \u001b[43m    \u001b[49m\u001b[43mattention_mask\u001b[49m\u001b[38;5;241;43m=\u001b[39;49m\u001b[43mattention_mask\u001b[49m\u001b[43m,\u001b[49m\n\u001b[1;32m    527\u001b[0m \u001b[43m    \u001b[49m\u001b[38;5;241;43m*\u001b[39;49m\u001b[38;5;241;43m*\u001b[39;49m\u001b[43mcross_attention_kwargs\u001b[49m\u001b[43m,\u001b[49m\n\u001b[1;32m    528\u001b[0m \u001b[43m\u001b[49m\u001b[43m)\u001b[49m\n",
      "File \u001b[0;32m~/texture_exp/ours/threestudio/threestudio/models/guidance/adapter/ip_adapter/attention_processor.py:540\u001b[0m, in \u001b[0;36mIPAttnProcessor2_0.__call__\u001b[0;34m(self, attn, hidden_states, encoder_hidden_states, attention_mask, temb)\u001b[0m\n\u001b[1;32m    537\u001b[0m hidden_states \u001b[38;5;241m=\u001b[39m hidden_states\u001b[38;5;241m.\u001b[39mto(query\u001b[38;5;241m.\u001b[39mdtype)\n\u001b[1;32m    539\u001b[0m \u001b[38;5;66;03m# for ip-adapter\u001b[39;00m\n\u001b[0;32m--> 540\u001b[0m ip_key \u001b[38;5;241m=\u001b[39m \u001b[38;5;28;43mself\u001b[39;49m\u001b[38;5;241;43m.\u001b[39;49m\u001b[43mto_k_ip\u001b[49m\u001b[43m(\u001b[49m\u001b[43mip_hidden_states\u001b[49m\u001b[43m)\u001b[49m\n\u001b[1;32m    541\u001b[0m ip_value \u001b[38;5;241m=\u001b[39m \u001b[38;5;28mself\u001b[39m\u001b[38;5;241m.\u001b[39mto_v_ip(ip_hidden_states)\n\u001b[1;32m    544\u001b[0m ip_key \u001b[38;5;241m=\u001b[39m ip_key\u001b[38;5;241m.\u001b[39mview(batch_size, \u001b[38;5;241m-\u001b[39m\u001b[38;5;241m1\u001b[39m, attn\u001b[38;5;241m.\u001b[39mheads, head_dim)\u001b[38;5;241m.\u001b[39mtranspose(\u001b[38;5;241m1\u001b[39m, \u001b[38;5;241m2\u001b[39m)\n",
      "File \u001b[0;32m~/anaconda3/envs/threestudio/lib/python3.10/site-packages/torch/nn/modules/module.py:1501\u001b[0m, in \u001b[0;36mModule._call_impl\u001b[0;34m(self, *args, **kwargs)\u001b[0m\n\u001b[1;32m   1496\u001b[0m \u001b[38;5;66;03m# If we don't have any hooks, we want to skip the rest of the logic in\u001b[39;00m\n\u001b[1;32m   1497\u001b[0m \u001b[38;5;66;03m# this function, and just call forward.\u001b[39;00m\n\u001b[1;32m   1498\u001b[0m \u001b[38;5;28;01mif\u001b[39;00m \u001b[38;5;129;01mnot\u001b[39;00m (\u001b[38;5;28mself\u001b[39m\u001b[38;5;241m.\u001b[39m_backward_hooks \u001b[38;5;129;01mor\u001b[39;00m \u001b[38;5;28mself\u001b[39m\u001b[38;5;241m.\u001b[39m_backward_pre_hooks \u001b[38;5;129;01mor\u001b[39;00m \u001b[38;5;28mself\u001b[39m\u001b[38;5;241m.\u001b[39m_forward_hooks \u001b[38;5;129;01mor\u001b[39;00m \u001b[38;5;28mself\u001b[39m\u001b[38;5;241m.\u001b[39m_forward_pre_hooks\n\u001b[1;32m   1499\u001b[0m         \u001b[38;5;129;01mor\u001b[39;00m _global_backward_pre_hooks \u001b[38;5;129;01mor\u001b[39;00m _global_backward_hooks\n\u001b[1;32m   1500\u001b[0m         \u001b[38;5;129;01mor\u001b[39;00m _global_forward_hooks \u001b[38;5;129;01mor\u001b[39;00m _global_forward_pre_hooks):\n\u001b[0;32m-> 1501\u001b[0m     \u001b[38;5;28;01mreturn\u001b[39;00m \u001b[43mforward_call\u001b[49m\u001b[43m(\u001b[49m\u001b[38;5;241;43m*\u001b[39;49m\u001b[43margs\u001b[49m\u001b[43m,\u001b[49m\u001b[43m \u001b[49m\u001b[38;5;241;43m*\u001b[39;49m\u001b[38;5;241;43m*\u001b[39;49m\u001b[43mkwargs\u001b[49m\u001b[43m)\u001b[49m\n\u001b[1;32m   1502\u001b[0m \u001b[38;5;66;03m# Do not call functions when jit is used\u001b[39;00m\n\u001b[1;32m   1503\u001b[0m full_backward_hooks, non_full_backward_hooks \u001b[38;5;241m=\u001b[39m [], []\n",
      "File \u001b[0;32m~/anaconda3/envs/threestudio/lib/python3.10/site-packages/torch/nn/modules/linear.py:114\u001b[0m, in \u001b[0;36mLinear.forward\u001b[0;34m(self, input)\u001b[0m\n\u001b[1;32m    113\u001b[0m \u001b[38;5;28;01mdef\u001b[39;00m \u001b[38;5;21mforward\u001b[39m(\u001b[38;5;28mself\u001b[39m, \u001b[38;5;28minput\u001b[39m: Tensor) \u001b[38;5;241m-\u001b[39m\u001b[38;5;241m>\u001b[39m Tensor:\n\u001b[0;32m--> 114\u001b[0m     \u001b[38;5;28;01mreturn\u001b[39;00m \u001b[43mF\u001b[49m\u001b[38;5;241;43m.\u001b[39;49m\u001b[43mlinear\u001b[49m\u001b[43m(\u001b[49m\u001b[38;5;28;43minput\u001b[39;49m\u001b[43m,\u001b[49m\u001b[43m \u001b[49m\u001b[38;5;28;43mself\u001b[39;49m\u001b[38;5;241;43m.\u001b[39;49m\u001b[43mweight\u001b[49m\u001b[43m,\u001b[49m\u001b[43m \u001b[49m\u001b[38;5;28;43mself\u001b[39;49m\u001b[38;5;241;43m.\u001b[39;49m\u001b[43mbias\u001b[49m\u001b[43m)\u001b[49m\n",
      "\u001b[0;31mKeyboardInterrupt\u001b[0m: "
     ]
    }
   ],
   "source": [
    "for step in tqdm(range(num_steps + 1)):\n",
    "    \n",
    "    guidance.update_step(epoch=step, global_step=step)\n",
    "    encoding_optimizer.zero_grad()\n",
    "    optimizer.zero_grad()\n",
    "    if step % 50 == 0:\n",
    "        dataset.update_step(epoch=step, global_step=step)\n",
    "    sample_data = dataset.collate(dataset.batch_size)\n",
    "\n",
    "    batch = {\n",
    "        'elevation': sample_data['elevation'],\n",
    "        'azimuth': sample_data['azimuth'],\n",
    "        'camera_distances': sample_data['camera_distances']\n",
    "    }\n",
    "    \n",
    "    with autocast(enabled=True):\n",
    "        for i in range(dataset.batch_size):\n",
    "            out = rasterizer(sample_data['mvp_mtx'][i:i+1].cuda(), sample_data['camera_positions'][i:i+1].cuda(), sample_data['light_positions'][i:i+1].cuda(), 1024, 1024, sample_data['c2w'][i:i+1].cuda())\n",
    "            canny = torch.tensor(np.array(detector(out['comp_rgb'].squeeze(0).detach().cpu() * 255)) / 255).unsqueeze(0).to(torch.float16).cuda()\n",
    "            pred_rgb = out['comp_rgb']\n",
    "        if step % 50 == 0:\n",
    "            j = random.randint(0, dataset.batch_size - 1)\n",
    "            kiui.utils.write_image(f'./test_plot/1/{step}.png', pred_rgb)\n",
    "\n",
    "        guidance.cfg.warm_up_rate = 1. - min(step/1000, 1.)\n",
    "        \n",
    "        loss = guidance(pred_rgb, canny, **batch, rgb_as_latents=False, guidance_eval=False, prompt_utils=prompt_processor(), condition_scale=0.5)\n",
    "        grad = loss['loss_sds']\n",
    "\n",
    "    # print(grad)\n",
    "    scaler1.scale(grad).backward(retain_graph=True)\n",
    "    scaler1.unscale_(encoding_optimizer)\n",
    "    scaler1.step(encoding_optimizer)\n",
    "    scaler1.update()\n",
    "\n",
    "    scaler2.scale(grad).backward()\n",
    "    scaler2.unscale_(optimizer)\n",
    "    scaler2.step(optimizer)\n",
    "    scaler2.update()\n",
    "    if scheduler is not None:\n",
    "        scheduler.step()"
   ]
  },
  {
   "cell_type": "code",
   "execution_count": null,
   "id": "b5d0257e-3699-4bef-86b4-b5e6c9fd92c3",
   "metadata": {},
   "outputs": [],
   "source": [
    "# encoding_optimizer = torch.optim.AdamW(list(mesh.encoding.parameters()), lr=0.01, betas=(0.9, 0.99), eps=1e-15)\n",
    "# optimizer = torch.optim.AdamW(list(mesh.feature_network.parameters()), lr=0.001, betas=(0.9, 0.99), eps=1e-15)"
   ]
  },
  {
   "cell_type": "code",
   "execution_count": null,
   "id": "e67dc694-e374-43c3-afac-df961b1f1a68",
   "metadata": {},
   "outputs": [],
   "source": [
    "sample_data = dataset.collate(4)\n",
    "i = 0\n",
    "out = rasterizer(sample_data['mvp_mtx'][i:i+1].cuda(), sample_data['camera_positions'][i:i+1].cuda(), sample_data['light_positions'][i:i+1].cuda(), 512, 512, sample_data['c2w'][i:i+1].cuda())\n",
    "kiui.vis.plot_image(out['comp_rgb'])"
   ]
  },
  {
   "cell_type": "code",
   "execution_count": null,
   "id": "be3a45a2-74f5-4355-b3b9-c0b31a2815a2",
   "metadata": {},
   "outputs": [],
   "source": [
    "dataloader = RandomCameraDataModule(camera_config)"
   ]
  },
  {
   "cell_type": "code",
   "execution_count": null,
   "id": "f2b73bf2-68e0-4ada-a2aa-6f07fc4469a1",
   "metadata": {},
   "outputs": [],
   "source": [
    "dataloader.setup(\"test\")"
   ]
  },
  {
   "cell_type": "code",
   "execution_count": null,
   "id": "a6f2e3af-5a89-4ce3-9c7f-4f2892dc40f0",
   "metadata": {},
   "outputs": [],
   "source": [
    "for j, sample_data in enumerate(dataloader.test_dataloader()):\n",
    "    i = 0\n",
    "    out = rasterizer(sample_data['mvp_mtx'][i:i+1].cuda(), sample_data['camera_positions'][i:i+1].cuda(), sample_data['light_positions'][i:i+1].cuda(), 512, 512, sample_data['c2w'][i:i+1].cuda())\n",
    "    kiui.utils.write_image(f'./output/ipiu/SDXL/test/5/image/rgb_{j:03d}.png', out['comp_rgb'])\n",
    "    # kiui.utils.write_image(f'./output_plot/com2024/teddy_teddy/normal_{j:03d}.png', out['comp_normal'])"
   ]
  },
  {
   "cell_type": "code",
   "execution_count": null,
   "id": "e8e855f2-6a38-426c-b896-308f43ac0ba1",
   "metadata": {},
   "outputs": [],
   "source": [
    "from threestudio.utils.saving import SaverMixin\n",
    "from threestudio.models.exporters.mesh_exporter import MeshExporter\n",
    "\n",
    "export_config = {\n",
    "        'fmt': \"obj-mtl\",  # in ['obj-mtl', 'obj'], TODO: fbx\n",
    "        'save_name': \"mesh\",\n",
    "        'save_normal': True,\n",
    "        'save_uv': True,\n",
    "        'save_texture': True,\n",
    "        'texture_size': 1024,\n",
    "        'texture_format': \"png\",\n",
    "        # xatlas_chart_options: field(default_factory=dict)\n",
    "        # xatlas_pack_options: field(default_factory=dict)\n",
    "        'context_type': \"cuda\",\n",
    "}\n",
    "\n",
    "exporter = MeshExporter(export_config, mesh, material, background)\n",
    "\n",
    "output = exporter()\n",
    "save_utils = SaverMixin()\n",
    "save_utils.set_save_dir(\"./output/ipiu/SDXL/test/5/\")\n",
    "\n",
    "for out in output:\n",
    "    func_name = f\"save_{out.save_type}\"\n",
    "    save_func = getattr(save_utils, func_name)\n",
    "    save_func(f\"{out.save_name}\", **out.params)"
   ]
  },
  {
   "cell_type": "code",
   "execution_count": null,
   "id": "414183d2-b54e-4f73-b107-363acbd82375",
   "metadata": {},
   "outputs": [],
   "source": [
    "torch.save(mesh.encoding.state_dict(), \"./output/ipiu/SDXL/test/5/encoding.pth\")\n",
    "torch.save(mesh.feature_network.state_dict(), \"./output/ipiu/SDXL/test/5/mlp.pth\")"
   ]
  },
  {
   "cell_type": "code",
   "execution_count": null,
   "id": "c90826be-d939-4c22-ac77-dfe8dcb75ebf",
   "metadata": {},
   "outputs": [],
   "source": [
    "# for attn_name, attn_processor in guidance.pipe.unet.attn_processors.items():\n",
    "#     # print(attn_name)\n",
    "#     if \"down_blocks.2\" in attn_name:\n",
    "#         print(attn_name)\n",
    "#     # if \"up\" in attn_name:\n",
    "#     #     attn_processor.scale = scale\n",
    "#     # else:\n",
    "#     #     attn_processor.scale = 0.0"
   ]
  },
  {
   "cell_type": "code",
   "execution_count": null,
   "id": "1fb397db-b378-487f-b7b7-0c06f06980f1",
   "metadata": {},
   "outputs": [],
   "source": []
  },
  {
   "cell_type": "code",
   "execution_count": null,
   "id": "e92225b0-0ad0-4f6f-b70b-a4218b953cb0",
   "metadata": {},
   "outputs": [],
   "source": []
  }
 ],
 "metadata": {
  "kernelspec": {
   "display_name": "threestudio",
   "language": "python",
   "name": "threestudio"
  },
  "language_info": {
   "codemirror_mode": {
    "name": "ipython",
    "version": 3
   },
   "file_extension": ".py",
   "mimetype": "text/x-python",
   "name": "python",
   "nbconvert_exporter": "python",
   "pygments_lexer": "ipython3",
   "version": "3.10.14"
  }
 },
 "nbformat": 4,
 "nbformat_minor": 5
}
